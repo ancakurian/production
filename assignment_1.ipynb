{
 "cells": [
  {
   "cell_type": "markdown",
   "metadata": {},
   "source": [
    "# Working with parquet files\n",
    "\n",
    "## Objective\n",
    "\n",
    "+ In this assignment, we will use the data downloaded with the module `data_manager` to create features.\n",
    "\n",
    "(11 pts total)\n",
    "\n",
    "## Prerequisites\n",
    "\n",
    "+ This notebook assumes that price data is available to you in the environment variable `PRICE_DATA`. If you have not done so, then execute the notebook `01_materials/labs/2_data_engineering.ipynb` to create this data set.\n"
   ]
  },
  {
   "cell_type": "markdown",
   "metadata": {},
   "source": [
    "+ Load the environment variables using dotenv. (1 pt)"
   ]
  },
  {
   "cell_type": "code",
   "execution_count": 42,
   "metadata": {},
   "outputs": [
    {
     "name": "stdout",
     "output_type": "stream",
     "text": [
      "Requirement already satisfied: python-dotenv in c:\\users\\anca\\miniconda3\\envs\\dsi_participant\\lib\\site-packages (1.0.1)\n"
     ]
    }
   ],
   "source": [
    "!pip install python-dotenv\n",
    "\n",
    "PRICE_DATA=('c:/Users/Anca/Desktop/UofT DSI/Production/05_src/data/prices')\n",
    "\n",
    "from dotenv import load_dotenv\n",
    "import os\n",
    "\n",
    "load_dotenv()\n",
    "\n",
    "price_data = os.getenv(PRICE_DATA)\n",
    "\n",
    "df = dd.read_parquet('c:/Users/Anca/Desktop/UofT DSI/Production/05_src/data/prices')\n"
   ]
  },
  {
   "cell_type": "code",
   "execution_count": 35,
   "metadata": {},
   "outputs": [],
   "source": [
    "import dask.dataframe as dd"
   ]
  },
  {
   "cell_type": "markdown",
   "metadata": {},
   "source": [
    "+ Load the environment variable `PRICE_DATA`.\n",
    "+ Use [glob](https://docs.python.org/3/library/glob.html) to find the path of all parquet files in the directory `PRICE_DATA`.\n",
    "\n",
    "(1pt)"
   ]
  },
  {
   "cell_type": "code",
   "execution_count": 45,
   "metadata": {},
   "outputs": [
    {
     "name": "stderr",
     "output_type": "stream",
     "text": [
      "c:\\Users\\Anca\\miniconda3\\envs\\dsi_participant\\lib\\site-packages\\dask\\dataframe\\core.py:5517: UserWarning: New index has same name as existing, this is a no-op.\n",
      "  warnings.warn(\n"
     ]
    }
   ],
   "source": [
    "# Write your code below.\n",
    "\n",
    "from glob import glob\n",
    "\n",
    "PRICE_DATA = os.getenv(\"PRICE_DATA\")\n",
    "\n",
    "parquet_files = glob(os.path.join('c:/Users/Anca/Desktop/UofT DSI/Production/05_src/data/prices'))\n",
    "parquet_files\n",
    "dd_px = dd.read_parquet(parquet_files).set_index(\"ticker\")\n"
   ]
  },
  {
   "cell_type": "markdown",
   "metadata": {},
   "source": [
    "For each ticker and using Dask, do the following:\n",
    "\n",
    "+ Add lags for variables Close and Adj_Close.\n",
    "+ Add returns based on Adjusted Close:\n",
    "    \n",
    "    - `returns`: (Adj Close / Adj Close_lag) - 1\n",
    "\n",
    "+ Add the following range: \n",
    "\n",
    "    - `hi_lo_range`: this is the day's High minus Low.\n",
    "\n",
    "+ Assign the result to `dd_feat`.\n",
    "\n",
    "(4 pt)"
   ]
  },
  {
   "cell_type": "code",
   "execution_count": 52,
   "metadata": {},
   "outputs": [
    {
     "name": "stdout",
     "output_type": "stream",
     "text": [
      "<bound method _Frame.head of Dask DataFrame Structure:\n",
      "                             Date     Open     High      Low    Close Adj Close Volume  sector subsector   year Close_lag_1 Adj_Close_lag_1  returns high_low_range\n",
      "npartitions=11132                                                                                                                                                  \n",
      "                   datetime64[ns]  float64  float64  float64  float64   float64  int64  object    object  int32     float64         float64  float64        float64\n",
      "                              ...      ...      ...      ...      ...       ...    ...     ...       ...    ...         ...             ...      ...            ...\n",
      "...                           ...      ...      ...      ...      ...       ...    ...     ...       ...    ...         ...             ...      ...            ...\n",
      "                              ...      ...      ...      ...      ...       ...    ...     ...       ...    ...         ...             ...      ...            ...\n",
      "                              ...      ...      ...      ...      ...       ...    ...     ...       ...    ...         ...             ...      ...            ...\n",
      "Dask Name: assign, 18 graph layers>\n"
     ]
    },
    {
     "name": "stderr",
     "output_type": "stream",
     "text": [
      "C:\\Users\\Anca\\AppData\\Local\\Temp\\ipykernel_23016\\925717860.py:5: UserWarning: `meta` is not specified, inferred from partial data. Please provide `meta` if the result is unexpected.\n",
      "  Before: .apply(func)\n",
      "  After:  .apply(func, meta={'x': 'f8', 'y': 'f8'}) for dataframe result\n",
      "  or:     .apply(func, meta=('x', 'f8'))            for series result\n",
      "  dd_rets = (dd_px.groupby('ticker', group_keys=False)\n"
     ]
    }
   ],
   "source": [
    "# Write your code below.\n",
    "\n",
    "import numpy as np\n",
    "\n",
    "dd_rets = (dd_px.groupby('ticker', group_keys=False)\n",
    "           .apply(lambda x: x.assign(Close_lag_1=x['Close'].shift(1),\n",
    "                                     Adj_Close_lag_1=x['Adj Close'].shift(1)))\n",
    "           .assign(returns=lambda x: x['Adj Close'] / x['Adj_Close_lag_1'] - 1,\n",
    "                   high_low_range=lambda x: x['High'] - x['Low']))\n",
    "\n",
    "dd_feat = dd_rets\n",
    "\n",
    "print(dd_feat.head)\n"
   ]
  },
  {
   "cell_type": "markdown",
   "metadata": {},
   "source": [
    "+ Convert the Dask data frame to a pandas data frame. \n",
    "+ Add a rolling average return calculation with a window of 10 days.\n",
    "+ *Tip*: Consider using `.rolling(10).mean()`.\n",
    "\n",
    "(3 pt)"
   ]
  },
  {
   "cell_type": "code",
   "execution_count": 55,
   "metadata": {},
   "outputs": [
    {
     "name": "stdout",
     "output_type": "stream",
     "text": [
      "             Date       Open       High        Low      Close  Adj Close  \\\n",
      "ticker                                                                     \n",
      "RVTY   2008-01-02  25.799999  26.010000  25.240000  25.530001  22.805971   \n",
      "RVTY   2008-01-03  25.790001  25.790001  25.059999  25.180000  22.493313   \n",
      "RVTY   2008-01-04  24.870001  24.990000  24.430000  24.490000  21.876934   \n",
      "RVTY   2008-01-07  24.590000  24.850000  24.450001  24.780001  22.136000   \n",
      "RVTY   2008-01-08  24.700001  25.190001  24.700001  24.879999  22.225328   \n",
      "\n",
      "         Volume       sector              subsector  year  Close_lag_1  \\\n",
      "ticker                                                                   \n",
      "RVTY    1253600  Health Care  Health Care Equipment  2008          NaN   \n",
      "RVTY    1671500  Health Care  Health Care Equipment  2008    25.530001   \n",
      "RVTY    1657800  Health Care  Health Care Equipment  2008    25.180000   \n",
      "RVTY    1553500  Health Care  Health Care Equipment  2008    24.490000   \n",
      "RVTY    1580100  Health Care  Health Care Equipment  2008    24.780001   \n",
      "\n",
      "        Adj_Close_lag_1   returns  high_low_range  rolling_avg_return  \n",
      "ticker                                                                 \n",
      "RVTY                NaN       NaN        0.770000                 NaN  \n",
      "RVTY          22.805971 -0.013709        0.730001                 NaN  \n",
      "RVTY          22.493313 -0.027403        0.559999                 NaN  \n",
      "RVTY          21.876934  0.011842        0.400000                 NaN  \n",
      "RVTY          22.136000  0.004035        0.490000                 NaN  \n"
     ]
    }
   ],
   "source": [
    "# Write your code below.\n",
    "\n",
    "import pandas as pd \n",
    "df_pandas = dd_feat.compute()\n",
    "\n",
    "df_pandas['rolling_avg_return'] = df_pandas['returns'].rolling(window=10).mean()\n",
    "\n",
    "print(df_pandas.head())\n"
   ]
  },
  {
   "cell_type": "markdown",
   "metadata": {},
   "source": [
    "Please comment:\n",
    "\n",
    "+ Was it necessary to convert to pandas to calculate the moving average return?\n",
    "+ Would it have been better to do it in Dask? Why?\n",
    "\n",
    "(1 pt)"
   ]
  },
  {
   "cell_type": "code",
   "execution_count": null,
   "metadata": {},
   "outputs": [],
   "source": [
    "The calculation was done in Pandas due to the size of the dataset and the fact that it's done locally without parallel computing. \n",
    "It could have been done in Dask as well; however, for the purpose of this analysis, Pandas' straightforward model makes it a better choice. \n"
   ]
  },
  {
   "cell_type": "markdown",
   "metadata": {},
   "source": [
    "## Criteria\n",
    "\n",
    "The [rubric](./assignment_1_rubric_clean.xlsx) contains the criteria for grading."
   ]
  },
  {
   "cell_type": "markdown",
   "metadata": {},
   "source": [
    "## Submission Information\n",
    "\n",
    "🚨 **Please review our [Assignment Submission Guide](https://github.com/UofT-DSI/onboarding/blob/main/onboarding_documents/submissions.md)** 🚨 for detailed instructions on how to format, branch, and submit your work. Following these guidelines is crucial for your submissions to be evaluated correctly.\n",
    "\n",
    "### Submission Parameters:\n",
    "* Submission Due Date: `HH:MM AM/PM - DD/MM/YYYY`\n",
    "* The branch name for your repo should be: `assignment-1`\n",
    "* What to submit for this assignment:\n",
    "    * This Jupyter Notebook (assignment_1.ipynb) should be populated and should be the only change in your pull request.\n",
    "* What the pull request link should look like for this assignment: `https://github.com/<your_github_username>/production/pull/<pr_id>`\n",
    "    * Open a private window in your browser. Copy and paste the link to your pull request into the address bar. Make sure you can see your pull request properly. This helps the technical facilitator and learning support staff review your submission easily.\n",
    "\n",
    "Checklist:\n",
    "- [ ] Created a branch with the correct naming convention.\n",
    "- [ ] Ensured that the repository is public.\n",
    "- [ ] Reviewed the PR description guidelines and adhered to them.\n",
    "- [ ] Verify that the link is accessible in a private browser window.\n",
    "\n",
    "If you encounter any difficulties or have questions, please don't hesitate to reach out to our team via our Slack at `#cohort-3-help`. Our Technical Facilitators and Learning Support staff are here to help you navigate any challenges."
   ]
  }
 ],
 "metadata": {
  "kernelspec": {
   "display_name": "dsi_participant",
   "language": "python",
   "name": "python3"
  },
  "language_info": {
   "codemirror_mode": {
    "name": "ipython",
    "version": 3
   },
   "file_extension": ".py",
   "mimetype": "text/x-python",
   "name": "python",
   "nbconvert_exporter": "python",
   "pygments_lexer": "ipython3",
   "version": "3.9.15"
  }
 },
 "nbformat": 4,
 "nbformat_minor": 2
}
